{
 "cells": [
  {
   "cell_type": "markdown",
   "id": "635905f0",
   "metadata": {},
   "source": [
    "Teste de automatização convertendo imagem jogo1.png para texto"
   ]
  },
  {
   "cell_type": "code",
   "execution_count": 2,
   "id": "63e0c70c",
   "metadata": {},
   "outputs": [
    {
     "name": "stderr",
     "output_type": "stream",
     "text": [
      "Using CPU. Note: This module is much faster with a GPU.\n"
     ]
    },
    {
     "name": "stdout",
     "output_type": "stream",
     "text": [
      "Data: 13/04/2024\n",
      "Hora: 18:30\n",
      "Cidade: Criciuma, Brazil\n"
     ]
    }
   ],
   "source": [
    "import easyocr\n",
    "import cv2\n",
    "import re\n",
    "\n",
    "#  Carrega imagem\n",
    "img_path = 'jogo1.png'\n",
    "img = cv2.imread(img_path)\n",
    "\n",
    "#  OCR com EasyOCR\n",
    "reader = easyocr.Reader(['en'], gpu=False)\n",
    "results = reader.readtext(img)\n",
    "\n",
    "#  Inicia variáveis\n",
    "data_text, hora_text, cidade_text = None, None, None\n",
    "\n",
    "#  Regex\n",
    "regex_data = re.compile(r\"\\d{2}[\\/.-]\\d{2}[\\/.-]\\d{4}\")\n",
    "regex_hora = re.compile(r\"\\b\\d{1,2}[:.]\\d{2}\\b\")\n",
    "\n",
    "#  Busca Data e Hora com lógica\n",
    "for i, (_, text, _) in enumerate(results):\n",
    "    cleaned = text.replace(\"•\", \"\").replace(\"h\", \":\").strip()\n",
    "\n",
    "    # Data\n",
    "    if not data_text:\n",
    "        match_data = regex_data.search(cleaned)\n",
    "        if match_data:\n",
    "            data_text = match_data.group()\n",
    "\n",
    "            #  Verifica próxima entrada pra hora\n",
    "            if i + 1 < len(results):\n",
    "                prox_text = results[i + 1][1].replace(\"•\", \"\").strip()\n",
    "                match_hora = regex_hora.search(prox_text)\n",
    "                if match_hora:\n",
    "                    hora_bruta = match_hora.group()\n",
    "                    hora_text = hora_bruta.replace(\".\", \":\")\n",
    "\n",
    "    #  Caso a hora esteja sozinha em outro lugar\n",
    "    if not hora_text:\n",
    "        match_hora = regex_hora.search(cleaned)\n",
    "        if match_hora:\n",
    "            hora_bruta = match_hora.group()\n",
    "            # Só aceita se não for um ano como \"2024\"\n",
    "            if not hora_bruta.startswith(\"20\"):\n",
    "                hora_text = hora_bruta.replace(\".\", \":\")\n",
    "\n",
    "#  Localização\n",
    "for idx, (_, text, _) in enumerate(results):\n",
    "    if text.strip().lower() in [\"location\", \"local\", \"localização\"]:\n",
    "        if idx + 1 < len(results):\n",
    "            cidade_text = results[idx + 1][1]\n",
    "        break\n",
    "\n",
    "#  Resultado final\n",
    "print(\"Data:\", data_text)\n",
    "print(\"Hora:\", hora_text)\n",
    "print(\"Cidade:\", cidade_text)\n"
   ]
  },
  {
   "cell_type": "markdown",
   "id": "caac6482",
   "metadata": {},
   "source": [
    "A lógica é o seguinte: se funciona para 1 print, deve funcionar para dezenas de milhares de outros prints também"
   ]
  },
  {
   "cell_type": "code",
   "execution_count": 7,
   "id": "7186e963",
   "metadata": {},
   "outputs": [
    {
     "name": "stderr",
     "output_type": "stream",
     "text": [
      "Using CPU. Note: This module is much faster with a GPU.\n"
     ]
    },
    {
     "name": "stdout",
     "output_type": "stream",
     "text": [
      "🧾 Textos detectados:\n",
      "Criciuma\n",
      "1\n",
      "Juventude\n",
      "1\n",
      "✅ Resultado Final:\n",
      "Mandante: Criciuma\n",
      "Visitante: Juventude\n",
      "Placar: 1 x 1\n"
     ]
    }
   ],
   "source": [
    "import easyocr\n",
    "import cv2\n",
    "\n",
    "# Caminho da imagem\n",
    "img_path = 'jogo_rodada_1.png'\n",
    "reader = easyocr.Reader(['en'], gpu=False)\n",
    "img = cv2.imread(img_path)\n",
    "results = reader.readtext(img)\n",
    "\n",
    "# Limpa e extrai textos\n",
    "textos = [text.strip() for (_, text, _) in results if text.strip()]\n",
    "\n",
    "# Debug: mostrar textos lidos\n",
    "print(\"🧾 Textos detectados:\")\n",
    "for t in textos:\n",
    "    print(t)\n",
    "\n",
    "# Lógica para identificar times e placar\n",
    "times = []\n",
    "gols = []\n",
    "\n",
    "for t in textos:\n",
    "    if t.isdigit():  # Se for número, é gol\n",
    "        gols.append(int(t))\n",
    "    else:  # Senão, assume como nome do time\n",
    "        times.append(t)\n",
    "\n",
    "# Resultado\n",
    "if len(times) >= 2 and len(gols) >= 2:\n",
    "    mandante = times[0]\n",
    "    visitante = times[1]\n",
    "    placar = f\"{gols[0]} x {gols[1]}\"\n",
    "else:\n",
    "    mandante = visitante = placar = None\n",
    "\n",
    "# Saída\n",
    "print(\"✅ Resultado Final:\")\n",
    "print(\"Mandante:\", mandante)\n",
    "print(\"Visitante:\", visitante)\n",
    "print(\"Placar:\", placar)\n"
   ]
  },
  {
   "cell_type": "code",
   "execution_count": 6,
   "id": "b935cdc2",
   "metadata": {},
   "outputs": [
    {
     "name": "stderr",
     "output_type": "stream",
     "text": [
      "Using CPU. Note: This module is much faster with a GPU.\n"
     ]
    },
    {
     "name": "stdout",
     "output_type": "stream",
     "text": [
      "🧾 Textos detectados:\n",
      "0 - 1\n",
      "71L\n",
      "Finished\n",
      "Vitória\n",
      "Palmeiras\n",
      "RRíos 20'\n",
      "\n",
      "✅ Resultado Final:\n",
      "Mandante: Vitória\n",
      "Visitante: Palmeiras\n",
      "Placar: 0 x 1\n",
      "⚽ Gol: Palmeiras aos 20′\n"
     ]
    }
   ],
   "source": [
    "import easyocr\n",
    "import cv2\n",
    "import re\n",
    "\n",
    "# Caminho da imagem\n",
    "img_path = 'C:\\\\Users\\\\msdof\\\\Downloads\\\\Projeto_Time_Mandante\\\\prints_upscayl\\\\upscayl_png_realesrgan-x4plus_5x\\\\palmeiras_vitoria_upscayl_4x_ultrasharp.png'\n",
    "\n",
    "# Inicializa OCR com português e inglês\n",
    "reader = easyocr.Reader(['en', 'pt'], gpu=False)\n",
    "img = cv2.imread(img_path)\n",
    "results = reader.readtext(img)\n",
    "\n",
    "# Extrai e limpa textos\n",
    "textos = [text.strip() for (_, text, _) in results if text.strip()]\n",
    "\n",
    "print(\"🧾 Textos detectados:\")\n",
    "for t in textos:\n",
    "    print(t)\n",
    "\n",
    "# Detectar placar\n",
    "placar = None\n",
    "for t in textos:\n",
    "    match = re.search(r'(\\d+)\\s*[-x–]\\s*(\\d+)', t)\n",
    "    if match:\n",
    "        gols1, gols2 = match.groups()\n",
    "        placar = f\"{gols1} x {gols2}\"\n",
    "        break\n",
    "\n",
    "# Candidatos a time (exclui palavras comuns e ruídos)\n",
    "ruido = {'finished', 'final', 'yn', 'ft', 'gol', 'gols'}\n",
    "candidatos = [t for t in textos if t.lower() not in ruido and re.match(r'^[A-ZÁÉÍÓÚÂÊÔÃÕ][a-záéíóúâêôãõç]{2,}$', t)]\n",
    "\n",
    "# Detecta jogador e minuto\n",
    "jogador = minuto = None\n",
    "for i, t in enumerate(textos):\n",
    "    if re.search(r\"\\d{1,2}['′]\", t):  # exemplo: 20'\n",
    "        minuto = re.findall(r'\\d{1,2}', t)[0]\n",
    "        jogador = textos[i - 1] if i > 0 else None\n",
    "        break\n",
    "\n",
    "# Verifica resultado\n",
    "if placar and len(candidatos) >= 2:\n",
    "    mandante, visitante = candidatos[0], candidatos[1]\n",
    "    print(\"\\n✅ Resultado Final:\")\n",
    "    print(\"Mandante:\", mandante)\n",
    "    print(\"Visitante:\", visitante)\n",
    "    print(\"Placar:\", placar)\n",
    "    if jogador and minuto:\n",
    "        print(f\"⚽ Gol: {jogador} aos {minuto}′\")\n",
    "else:\n",
    "    print(\"\\n❌ Não foi possível extrair todos os dados corretamente.\")\n"
   ]
  },
  {
   "cell_type": "code",
   "execution_count": 5,
   "id": "79f99526",
   "metadata": {},
   "outputs": [
    {
     "name": "stderr",
     "output_type": "stream",
     "text": [
      "Using CPU. Note: This module is much faster with a GPU.\n"
     ]
    },
    {
     "name": "stdout",
     "output_type": "stream",
     "text": [
      "🧾 Textos detectados:\n",
      "0 - 1\n",
      "Finished\n",
      "Vitória\n",
      "Palmeiras\n",
      "R Ríos 20'\n",
      "\n",
      "✅ Resultado Final:\n",
      "Mandante: Vitória\n",
      "Visitante: Palmeiras\n",
      "Placar: 0 x 1\n",
      "⚽ Gol: Palmeiras aos 20′\n"
     ]
    }
   ],
   "source": [
    "\n",
    "import easyocr\n",
    "import cv2\n",
    "import re\n",
    "\n",
    "# Caminho da imagem\n",
    "img_path = 'palmeiras_vitoria.png'\n",
    "\n",
    "# Inicializa OCR com português e inglês\n",
    "reader = easyocr.Reader(['en', 'pt'], gpu=False)\n",
    "img = cv2.imread(img_path)\n",
    "results = reader.readtext(img)\n",
    "\n",
    "# Extrai e limpa textos\n",
    "textos = [text.strip() for (_, text, _) in results if text.strip()]\n",
    "\n",
    "print(\"🧾 Textos detectados:\")\n",
    "for t in textos:\n",
    "    print(t)\n",
    "\n",
    "# Detectar placar\n",
    "placar = None\n",
    "for t in textos:\n",
    "    match = re.search(r'(\\d+)\\s*[-x–]\\s*(\\d+)', t)\n",
    "    if match:\n",
    "        gols1, gols2 = match.groups()\n",
    "        placar = f\"{gols1} x {gols2}\"\n",
    "        break\n",
    "\n",
    "# Candidatos a time (exclui palavras comuns e ruídos)\n",
    "ruido = {'finished', 'final', 'yn', 'ft', 'gol', 'gols'}\n",
    "candidatos = [t for t in textos if t.lower() not in ruido and re.match(r'^[A-ZÁÉÍÓÚÂÊÔÃÕ][a-záéíóúâêôãõç]{2,}$', t)]\n",
    "\n",
    "# Detecta jogador e minuto\n",
    "jogador = minuto = None\n",
    "for i, t in enumerate(textos):\n",
    "    if re.search(r\"\\d{1,2}['′]\", t):  # exemplo: 20'\n",
    "        minuto = re.findall(r'\\d{1,2}', t)[0]\n",
    "        jogador = textos[i - 1] if i > 0 else None\n",
    "        break\n",
    "\n",
    "# Verifica resultado\n",
    "if placar and len(candidatos) >= 2:\n",
    "    mandante, visitante = candidatos[0], candidatos[1]\n",
    "    print(\"\\n✅ Resultado Final:\")\n",
    "    print(\"Mandante:\", mandante)\n",
    "    print(\"Visitante:\", visitante)\n",
    "    print(\"Placar:\", placar)\n",
    "    if jogador and minuto:\n",
    "        print(f\"⚽ Gol: {jogador} aos {minuto}′\")\n",
    "else:\n",
    "    print(\"\\n❌ Não foi possível extrair todos os dados corretamente.\")\n"
   ]
  },
  {
   "cell_type": "markdown",
   "id": "e016a295",
   "metadata": {},
   "source": [
    "Tratatamento de imagem (com i.a, usando Upscayl)"
   ]
  },
  {
   "cell_type": "code",
   "execution_count": 20,
   "id": "0834c200",
   "metadata": {},
   "outputs": [
    {
     "name": "stderr",
     "output_type": "stream",
     "text": [
      "Using CPU. Note: This module is much faster with a GPU.\n"
     ]
    },
    {
     "name": "stdout",
     "output_type": "stream",
     "text": [
      "📸 Resultados após pré-processamento:\n",
      "🧾 Detectado: 'MQJIW' (confiança: 0.16)\n",
      "🧾 Detectado: '4n' (confiança: 0.31)\n",
      "🧾 Detectado: 'Criciuma' (confiança: 0.87)\n",
      "🧾 Detectado: '1' (confiança: 1.00)\n",
      "🧾 Detectado: 'Juventude' (confiança: 0.93)\n",
      "🧾 Detectado: '1' (confiança: 1.00)\n"
     ]
    }
   ],
   "source": [
    "import cv2\n",
    "import easyocr\n",
    "import numpy as np\n",
    "\n",
    "def preprocess_image(path):\n",
    "    img = cv2.imread(path)\n",
    "\n",
    "    # Passo 1: Grayscale\n",
    "    gray = cv2.cvtColor(img, cv2.COLOR_BGR2GRAY)\n",
    "\n",
    "    # Passo 2: Binarização adaptativa (melhora contraste de texto em fundo claro)\n",
    "    thresh = cv2.adaptiveThreshold(\n",
    "        gray, 255, \n",
    "        cv2.ADAPTIVE_THRESH_GAUSSIAN_C, \n",
    "        cv2.THRESH_BINARY_INV, \n",
    "        11, 2\n",
    "    )\n",
    "\n",
    "    # (Opcional) Passo 3: Dilatar pra reforçar letras finas\n",
    "    kernel = np.ones((2,2), np.uint8)\n",
    "    dilated = cv2.dilate(thresh, kernel, iterations=1)\n",
    "\n",
    "    return dilated\n",
    "\n",
    "# Caminho da imagem\n",
    "img_path = \"jogo_rodada_1_upscayl_5x_realesrgan-x4plus.png\"  # ajuste conforme necessário\n",
    "processed = preprocess_image(img_path)\n",
    "\n",
    "# Inicializa OCR com idioma em inglês (funciona pra nomes e números)\n",
    "reader = easyocr.Reader(['en'], gpu=False)\n",
    "\n",
    "# OCR na imagem tratada\n",
    "results = reader.readtext(processed)\n",
    "\n",
    "# Mostra resultados com confiança\n",
    "print(\"📸 Resultados após pré-processamento:\")\n",
    "for bbox, text, conf in results:\n",
    "    print(f\"🧾 Detectado: '{text}' (confiança: {conf:.2f})\")\n"
   ]
  }
 ],
 "metadata": {
  "kernelspec": {
   "display_name": "Python 3",
   "language": "python",
   "name": "python3"
  },
  "language_info": {
   "codemirror_mode": {
    "name": "ipython",
    "version": 3
   },
   "file_extension": ".py",
   "mimetype": "text/x-python",
   "name": "python",
   "nbconvert_exporter": "python",
   "pygments_lexer": "ipython3",
   "version": "3.12.0"
  }
 },
 "nbformat": 4,
 "nbformat_minor": 5
}
