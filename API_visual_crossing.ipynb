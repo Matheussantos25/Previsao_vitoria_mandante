{
 "cells": [
  {
   "cell_type": "markdown",
   "id": "97b3c2a4",
   "metadata": {},
   "source": [
    "Clima usando visualcrossing"
   ]
  },
  {
   "cell_type": "code",
   "execution_count": 4,
   "id": "f1ab1047",
   "metadata": {},
   "outputs": [
    {
     "name": "stdout",
     "output_type": "stream",
     "text": [
      "🌦️ Buscando clima de Salvador em 2024-04-14T18:30:00\n",
      "Erro buscando clima para Salvador 2024-04-14T18:30:00: Expecting value: line 1 column 1 (char 0)\n",
      "🌦️ Buscando clima de Criciuma em 2024-04-13T18:30:00\n",
      "Erro buscando clima para Criciuma 2024-04-13T18:30:00: Expecting value: line 1 column 1 (char 0)\n",
      "🌦️ Buscando clima de Porto Alegre em 2024-04-13T18:30:00\n",
      "Erro buscando clima para Porto Alegre 2024-04-13T18:30:00: Expecting value: line 1 column 1 (char 0)\n"
     ]
    },
    {
     "ename": "KeyboardInterrupt",
     "evalue": "",
     "output_type": "error",
     "traceback": [
      "\u001b[1;31m---------------------------------------------------------------------------\u001b[0m",
      "\u001b[1;31mKeyboardInterrupt\u001b[0m                         Traceback (most recent call last)",
      "Cell \u001b[1;32mIn[4], line 67\u001b[0m\n\u001b[0;32m     64\u001b[0m     \u001b[38;5;28mprint\u001b[39m(\u001b[38;5;124m\"\u001b[39m\u001b[38;5;124m✅ Arquivo salvo como jogos_com_clima_2024.csv\u001b[39m\u001b[38;5;124m\"\u001b[39m)\n\u001b[0;32m     66\u001b[0m \u001b[38;5;28;01mif\u001b[39;00m \u001b[38;5;18m__name__\u001b[39m \u001b[38;5;241m==\u001b[39m \u001b[38;5;124m\"\u001b[39m\u001b[38;5;124m__main__\u001b[39m\u001b[38;5;124m\"\u001b[39m:\n\u001b[1;32m---> 67\u001b[0m     \u001b[43mmain\u001b[49m\u001b[43m(\u001b[49m\u001b[43m)\u001b[49m\n",
      "Cell \u001b[1;32mIn[4], line 59\u001b[0m, in \u001b[0;36mmain\u001b[1;34m()\u001b[0m\n\u001b[0;32m     56\u001b[0m     clima \u001b[38;5;241m=\u001b[39m get_weather(cidade, data_iso)\n\u001b[0;32m     57\u001b[0m     clima_list\u001b[38;5;241m.\u001b[39mappend(clima \u001b[38;5;28;01mif\u001b[39;00m clima \u001b[38;5;28;01melse\u001b[39;00m {})\n\u001b[1;32m---> 59\u001b[0m     \u001b[43mtime\u001b[49m\u001b[38;5;241;43m.\u001b[39;49m\u001b[43msleep\u001b[49m\u001b[43m(\u001b[49m\u001b[38;5;241;43m1.1\u001b[39;49m\u001b[43m)\u001b[49m  \u001b[38;5;66;03m# evitar estourar a cota gratuita\u001b[39;00m\n\u001b[0;32m     61\u001b[0m clima_df \u001b[38;5;241m=\u001b[39m pd\u001b[38;5;241m.\u001b[39mDataFrame(clima_list)\n\u001b[0;32m     62\u001b[0m df_final \u001b[38;5;241m=\u001b[39m pd\u001b[38;5;241m.\u001b[39mconcat([df, clima_df], axis\u001b[38;5;241m=\u001b[39m\u001b[38;5;241m1\u001b[39m)\n",
      "\u001b[1;31mKeyboardInterrupt\u001b[0m: "
     ]
    }
   ],
   "source": [
    "import pandas as pd\n",
    "import requests\n",
    "from datetime import datetime\n",
    "import time\n",
    "\n",
    "API_KEY = \"8YS5FQZNC8N6DGE6X2AY56Z3Z\"\n",
    "\n",
    "def format_datetime(data, hora):\n",
    "    try:\n",
    "        dt = datetime.strptime(f\"{data} {hora}\", \"%d/%m/%Y %H:%M\")\n",
    "        return dt.strftime(\"%Y-%m-%dT%H:%M:00\")\n",
    "    except:\n",
    "        return None\n",
    "\n",
    "def get_weather(cidade, data_iso):\n",
    "    url = f\"https://weather.visualcrossing.com/VisualCrossingWebServices/rest/services/timeline/{cidade}/{data_iso}?key={API_KEY}&unitGroup=metric&include=hours\"\n",
    "\n",
    "    try:\n",
    "        r = requests.get(url)\n",
    "        data = r.json()\n",
    "\n",
    "        # Tenta localizar a hora exata\n",
    "        hora = datetime.fromisoformat(data_iso).hour\n",
    "        hora_dados = next((h for h in data['days'][0]['hours'] if h['datetime'].startswith(f\"{hora:02d}\")), None)\n",
    "\n",
    "        if hora_dados:\n",
    "            return {\n",
    "                \"Temperatura (°C)\": hora_dados.get(\"temp\"),\n",
    "                \"Umidade (%)\": hora_dados.get(\"humidity\"),\n",
    "                \"Precipitação (mm)\": hora_dados.get(\"precip\", 0),\n",
    "                \"Vento (km/h)\": hora_dados.get(\"windspeed\", 0)\n",
    "            }\n",
    "        else:\n",
    "            return None\n",
    "    except Exception as e:\n",
    "        print(f\"Erro buscando clima para {cidade} {data_iso}: {e}\")\n",
    "        return None\n",
    "\n",
    "def main():\n",
    "    df = pd.read_csv(\"cidades_partidas_corrigido.csv\")\n",
    "\n",
    "    clima_list = []\n",
    "\n",
    "    for i, row in df.iterrows():\n",
    "        cidade = row[\"cidade\"]\n",
    "        data = row[\"data\"]\n",
    "        hora = row[\"hora\"]\n",
    "\n",
    "        data_iso = format_datetime(data, hora)\n",
    "        if not data_iso:\n",
    "            print(f\"Data inválida: {data} {hora}\")\n",
    "            clima_list.append({})\n",
    "            continue\n",
    "\n",
    "        print(f\"🌦️ Buscando clima de {cidade} em {data_iso}\")\n",
    "        clima = get_weather(cidade, data_iso)\n",
    "        clima_list.append(clima if clima else {})\n",
    "\n",
    "        time.sleep(1.1)  # evitar estourar a cota gratuita\n",
    "\n",
    "    clima_df = pd.DataFrame(clima_list)\n",
    "    df_final = pd.concat([df, clima_df], axis=1)\n",
    "    df_final.to_csv(\"jogos_com_clima_2024.csv\", index=False, encoding='utf-8-sig')\n",
    "    print(\"✅ Arquivo salvo como jogos_com_clima_2024.csv\")\n",
    "\n",
    "if __name__ == \"__main__\":\n",
    "    main()\n"
   ]
  }
 ],
 "metadata": {
  "kernelspec": {
   "display_name": "Python 3",
   "language": "python",
   "name": "python3"
  },
  "language_info": {
   "codemirror_mode": {
    "name": "ipython",
    "version": 3
   },
   "file_extension": ".py",
   "mimetype": "text/x-python",
   "name": "python",
   "nbconvert_exporter": "python",
   "pygments_lexer": "ipython3",
   "version": "3.12.0"
  }
 },
 "nbformat": 4,
 "nbformat_minor": 5
}
