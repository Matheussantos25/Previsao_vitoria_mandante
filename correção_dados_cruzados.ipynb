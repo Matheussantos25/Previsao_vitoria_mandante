{
 "cells": [
  {
   "cell_type": "code",
   "execution_count": 1,
   "id": "656386de",
   "metadata": {},
   "outputs": [
    {
     "name": "stdout",
     "output_type": "stream",
     "text": [
      "✅ Arquivo 'partidas_fundidas_corrigidas.csv' criado com sucesso!\n"
     ]
    }
   ],
   "source": [
    "import pandas as pd\n",
    "import unicodedata\n",
    "import re\n",
    "\n",
    "# Funções utilitárias\n",
    "def normalize(name):\n",
    "    if not isinstance(name, str): return \"\"\n",
    "    name = name.strip().lower()\n",
    "    return unicodedata.normalize('NFKD', name).encode('ASCII', 'ignore').decode('utf-8')\n",
    "\n",
    "def clean_team_name(name):\n",
    "    corrections = {\n",
    "        \"criciumaec\": \"Criciúma\",\n",
    "        \"rodBull\": \"Bragantino\",\n",
    "        \"rodBull]\": \"Bragantino\",\n",
    "        \"athletico\": \"Athletico-PR\",\n",
    "        \"atletico-go\": \"Atlético-GO\",\n",
    "        \"atletico-mg\": \"Atlético-MG\",\n",
    "        \"america-mg\": \"América-MG\",\n",
    "        \"cuiaba\": \"Cuiabá\",\n",
    "        \"gremio\": \"Grêmio\",\n",
    "        \"goias\": \"Goiás\",\n",
    "        \"coritiba\": \"Coritiba\",\n",
    "        \"flamengo\": \"Flamengo\",\n",
    "        \"fluminense\": \"Fluminense\",\n",
    "        \"fortaleza\": \"Fortaleza\",\n",
    "        \"botafogo\": \"Botafogo\",\n",
    "        \"santos\": \"Santos\",\n",
    "        \"palmeiras\": \"Palmeiras\",\n",
    "        \"bahia\": \"Bahia\",\n",
    "        \"cruzeiro\": \"Cruzeiro\",\n",
    "        \"internacional\": \"Internacional\",\n",
    "        \"corinthians\": \"Corinthians\",\n",
    "        \"vasco\": \"Vasco\",\n",
    "        \"bragantino\": \"Bragantino\"\n",
    "    }\n",
    "    norm = normalize(name)\n",
    "    return corrections.get(norm, name.strip())\n",
    "\n",
    "def clean_placar(p):\n",
    "    if not isinstance(p, str): return \"\"\n",
    "    match = re.match(r\"\\s*(\\d+)\\s*x\\s*(\\d+)\\s*\", p.lower())\n",
    "    if match:\n",
    "        return f\"{match.group(1)} x {match.group(2)}\"\n",
    "    return \"\"\n",
    "\n",
    "# Carregar arquivos\n",
    "df1 = pd.read_csv(\"partidas_corrigidas.csv\")\n",
    "df2 = pd.read_csv(\"partidas_corrigidas4k.csv\")\n",
    "\n",
    "# Fundir: nomes de df1, placar de df2\n",
    "merged_df = pd.DataFrame({\n",
    "    \"rodada\": df1[\"rodada\"],\n",
    "    \"mandante\": df1[\"mandante\"].apply(clean_team_name),\n",
    "    \"visitante\": df1[\"visitante\"].apply(clean_team_name),\n",
    "    \"placar\": df2[\"placar\"].apply(clean_placar)\n",
    "})\n",
    "\n",
    "# Exportar CSV final\n",
    "merged_df.to_csv(\"partidas_fundidas_corrigidas.csv\", index=False)\n",
    "print(\"✅ Arquivo 'partidas_fundidas_corrigidas.csv' criado com sucesso!\")\n"
   ]
  },
  {
   "cell_type": "markdown",
   "id": "941cc36a",
   "metadata": {},
   "source": [
    "Observações em relação aos jogos adiados"
   ]
  },
  {
   "cell_type": "code",
   "execution_count": 2,
   "id": "2721eced",
   "metadata": {},
   "outputs": [
    {
     "name": "stdout",
     "output_type": "stream",
     "text": [
      "Total de partidas com 'Postponed': 8\n"
     ]
    }
   ],
   "source": [
    "import pandas as pd\n",
    "\n",
    "# Carregue seu arquivo CSV (substitua pelo nome correto do arquivo)\n",
    "df = pd.read_csv(\"partidas_fundidas_corrigidas.csv\")\n",
    "\n",
    "# Conta quantas linhas têm \"Postponed\" como mandante ou visitante\n",
    "postponed_count = (\n",
    "    df[\"mandante\"].astype(str).str.lower().eq(\"postponed\") |\n",
    "    df[\"visitante\"].astype(str).str.lower().eq(\"postponed\")\n",
    ").sum()\n",
    "\n",
    "print(f\"Total de partidas com 'Postponed': {postponed_count}\")\n"
   ]
  },
  {
   "cell_type": "markdown",
   "id": "dfface41",
   "metadata": {},
   "source": [
    "Identificar os jogos e mudar manualmente"
   ]
  },
  {
   "cell_type": "code",
   "execution_count": 3,
   "id": "6a6c5171",
   "metadata": {},
   "outputs": [
    {
     "name": "stdout",
     "output_type": "stream",
     "text": [
      "\n",
      "📌 Jogos Adiados:\n",
      "Rodada 16: Bragantino (mandante adiado)\n",
      "Rodada 16: Euon (visitante adiado)\n",
      "Rodada 17: Fluminense (mandante adiado)\n",
      "Rodada 17: Internacional (mandante adiado)\n",
      "Rodada 19: RccuBul (visitante adiado)\n",
      "Rodada 19: Internacional (mandante adiado)\n",
      "Rodada 19: Vasco (mandante adiado)\n",
      "Rodada 2: Euon (visitante adiado)\n"
     ]
    },
    {
     "name": "stderr",
     "output_type": "stream",
     "text": [
      "C:\\Users\\msdof\\AppData\\Local\\Temp\\ipykernel_17056\\25773759.py:25: SettingWithCopyWarning: \n",
      "A value is trying to be set on a copy of a slice from a DataFrame.\n",
      "Try using .loc[row_indexer,col_indexer] = value instead\n",
      "\n",
      "See the caveats in the documentation: https://pandas.pydata.org/pandas-docs/stable/user_guide/indexing.html#returning-a-view-versus-a-copy\n",
      "  adiados[\"descricao\"] = adiados.apply(resumo, axis=1)\n"
     ]
    }
   ],
   "source": [
    "import pandas as pd\n",
    "\n",
    "# Substitua com o nome do seu arquivo CSV\n",
    "df = pd.read_csv(\"partidas_fundidas_corrigidas.csv\")\n",
    "\n",
    "# Normalizar para facilitar comparação\n",
    "df[\"mandante\"] = df[\"mandante\"].astype(str).str.strip()\n",
    "df[\"visitante\"] = df[\"visitante\"].astype(str).str.strip()\n",
    "\n",
    "# Filtrar partidas adiadas\n",
    "adiados = df[\n",
    "    (df[\"mandante\"].str.lower() == \"postponed\") |\n",
    "    (df[\"visitante\"].str.lower() == \"postponed\")\n",
    "]\n",
    "\n",
    "# Criar uma coluna mais legível\n",
    "def resumo(row):\n",
    "    if row[\"mandante\"].lower() == \"postponed\":\n",
    "        return f\"Rodada {row['rodada']}: {row['visitante']} (mandante adiado)\"\n",
    "    elif row[\"visitante\"].lower() == \"postponed\":\n",
    "        return f\"Rodada {row['rodada']}: {row['mandante']} (visitante adiado)\"\n",
    "    else:\n",
    "        return \"Erro\"\n",
    "\n",
    "adiados[\"descricao\"] = adiados.apply(resumo, axis=1)\n",
    "\n",
    "# Mostrar os jogos adiados por rodada\n",
    "print(\"\\n📌 Jogos Adiados:\")\n",
    "for linha in adiados[\"descricao\"]:\n",
    "    print(linha)\n"
   ]
  }
 ],
 "metadata": {
  "kernelspec": {
   "display_name": "Python 3",
   "language": "python",
   "name": "python3"
  },
  "language_info": {
   "codemirror_mode": {
    "name": "ipython",
    "version": 3
   },
   "file_extension": ".py",
   "mimetype": "text/x-python",
   "name": "python",
   "nbconvert_exporter": "python",
   "pygments_lexer": "ipython3",
   "version": "3.12.0"
  }
 },
 "nbformat": 4,
 "nbformat_minor": 5
}
